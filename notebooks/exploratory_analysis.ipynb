{
 "cells": [
  {
   "cell_type": "markdown",
   "metadata": {},
   "source": [
    "### Sentiment Distribution Analysis\n",
    "This section analyzes the distribution of sentiments in the dataset. A count plot is used to visualize the frequency of each sentiment category (positive, neutral, negative).\n"
   ]
  },
  {
   "cell_type": "code",
   "execution_count": null,
   "metadata": {
    "vscode": {
     "languageId": "plaintext"
    }
   },
   "outputs": [],
   "source": [
    "import pandas as pd\n",
    "import matplotlib.pyplot as plt\n",
    "import seaborn as sns\n",
    "\n",
    "# Load dataset\n",
    "df = pd.read_csv('../data/raw_tweets.csv')\n",
    "\n",
    "# Plot sentiment distribution\n",
    "sns.countplot(x='sentiment', data=df)\n",
    "plt.title(\"Distribution of Sentiments\")\n",
    "plt.show()\n"
   ]
  }
 ],
 "metadata": {
  "language_info": {
   "name": "python"
  }
 },
 "nbformat": 4,
 "nbformat_minor": 2
}
